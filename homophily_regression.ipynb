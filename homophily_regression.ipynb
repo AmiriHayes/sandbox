{
  "nbformat": 4,
  "nbformat_minor": 0,
  "metadata": {
    "colab": {
      "provenance": [],
      "authorship_tag": "ABX9TyNlofL7TFr6ue0s+JCONMbl",
      "include_colab_link": true
    },
    "kernelspec": {
      "name": "python3",
      "display_name": "Python 3"
    },
    "language_info": {
      "name": "python"
    }
  },
  "cells": [
    {
      "cell_type": "markdown",
      "metadata": {
        "id": "view-in-github",
        "colab_type": "text"
      },
      "source": [
        "<a href=\"https://colab.research.google.com/github/AmiriHayes/sandbox/blob/main/homophily_regression.ipynb\" target=\"_parent\"><img src=\"https://colab.research.google.com/assets/colab-badge.svg\" alt=\"Open In Colab\"/></a>"
      ]
    },
    {
      "cell_type": "markdown",
      "source": [
        "STEP ONE: SYNTHETIC DATASET AND FEATURE ENGINEERING"
      ],
      "metadata": {
        "id": "dDhVkgU7w2oI"
      }
    },
    {
      "cell_type": "code",
      "execution_count": 4,
      "metadata": {
        "id": "XrTviVt6gHMi"
      },
      "outputs": [],
      "source": [
        "import numpy as np\n",
        "import pandas as pd\n",
        "import networkx as nx\n",
        "from tqdm import tqdm\n",
        "import os\n",
        "import csv"
      ]
    },
    {
      "cell_type": "code",
      "source": [
        "# simulate dataset w/ avg node homophily value and max_num_neighbors K\n",
        "\n",
        "n_nodes = 1000\n",
        "n_classes = 7\n",
        "p_same = 0.8\n",
        "K = 20\n",
        "\n",
        "seed = 42\n",
        "rng = np.random.default_rng(seed)\n",
        "os.makedirs(\"data\", exist_ok=True)\n",
        "\n",
        "labels = rng.integers(low=0, high=n_classes, size=n_nodes)\n",
        "class_nodes = {c: np.where(labels == c)[0].tolist() for c in range(n_classes)}\n",
        "all_nodes = np.arange(n_nodes).tolist()\n",
        "\n",
        "def sample_from_pool(pool, m, excludes=set(), rng=None):\n",
        "    pool_set = set(pool) - excludes\n",
        "    pool_list = list(pool_set)\n",
        "    if len(pool_list) == 0:\n",
        "        return list(rng.choice(pool, size=m, replace=True))\n",
        "    if len(pool_list) >= m:\n",
        "        return list(rng.choice(pool_list, size=m, replace=False))\n",
        "    else:\n",
        "        result = pool_list.copy()\n",
        "        rem = m - len(result)\n",
        "        result += list(rng.choice(pool_list, size=rem, replace=True))\n",
        "        return result\n",
        "\n",
        "edges_set = set()\n",
        "for i in tqdm(range(n_nodes), desc=\"constructing edges\"):\n",
        "    k = int(rng.integers(0, K+1))  # uniform integer in [0,K]\n",
        "    if k == 0: continue\n",
        "    n_same = int(rng.binomial(k, p_same))\n",
        "    n_diff = k - n_same\n",
        "\n",
        "    same_pool = class_nodes[labels[i]]\n",
        "    excludes = {i}\n",
        "\n",
        "    same_choices = []\n",
        "    if n_same > 0:\n",
        "        same_choices = sample_from_pool(same_pool, n_same, excludes=excludes, rng=rng)\n",
        "        excludes = excludes.union(same_choices)\n",
        "\n",
        "    other_pool = [x for x in all_nodes if labels[x] != labels[i]]\n",
        "    diff_choices = []\n",
        "    if n_diff > 0:\n",
        "        diff_choices = sample_from_pool(other_pool, n_diff, excludes=excludes, rng=rng)\n",
        "\n",
        "    for j in same_choices + diff_choices:\n",
        "        if j == i: continue\n",
        "        a, b = (i, j) if i < j else (j, i)\n",
        "        edges_set.add((a, b))\n",
        "\n",
        "edges = sorted(list(edges_set))\n",
        "edges_df = pd.DataFrame(edges, columns=[\"sourceNodeId\", \"targetNodeId\"])\n",
        "edges_df.to_csv(\"data/simulated_edges_new.csv\", index=False)\n",
        "nodes_df = pd.DataFrame({\"nodeId\": np.arange(n_nodes), \"label\": labels})\n",
        "nodes_df.to_csv(\"data/simulated_nodes_new.csv\", index=False)\n",
        "\n",
        "G = nx.Graph()\n",
        "G.add_nodes_from(range(n_nodes))\n",
        "G.add_edges_from(edges)\n",
        "\n",
        "homophily = []\n",
        "for node in range(n_nodes):\n",
        "    nbrs = list(G.neighbors(node))\n",
        "    deg = len(nbrs)\n",
        "    if deg == 0:\n",
        "        homophily.append(0.0)\n",
        "    else:\n",
        "        same_count = sum(1 for nb in nbrs if labels[nb] == labels[node])\n",
        "        homophily.append(same_count / deg)\n",
        "\n",
        "print(f\"Generated graph: n_nodes={n_nodes}, n_edges={G.number_of_edges()}\")\n",
        "print(f\"Homophily mean: {np.mean(homophily):.4f}, std: {np.std(homophily):.4f}\")\n",
        "nodes_df[\"homophily\"] = homophily\n",
        "nodes_df.to_csv(\"data/simulated_nodes_with_homophily.csv\", index=False)\n"
      ],
      "metadata": {
        "colab": {
          "base_uri": "https://localhost:8080/"
        },
        "id": "byLmmMY9zuPG",
        "outputId": "262dfe3c-aa88-4d2a-d46f-77b8978b832a"
      },
      "execution_count": 36,
      "outputs": [
        {
          "output_type": "stream",
          "name": "stderr",
          "text": [
            "constructing edges: 100%|██████████| 1000/1000 [00:00<00:00, 1760.00it/s]\n"
          ]
        },
        {
          "output_type": "stream",
          "name": "stdout",
          "text": [
            "Generated graph: n_nodes=1000, n_edges=9992\n",
            "Homophily mean: 0.7893, std: 0.1043\n"
          ]
        }
      ]
    },
    {
      "cell_type": "markdown",
      "source": [],
      "metadata": {
        "id": "4W_t6b0Z3JuE"
      }
    }
  ]
}